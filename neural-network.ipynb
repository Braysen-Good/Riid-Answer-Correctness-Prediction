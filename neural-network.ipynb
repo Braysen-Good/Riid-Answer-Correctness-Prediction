{
 "cells": [
  {
   "cell_type": "code",
   "execution_count": 1,
   "metadata": {
    "_cell_guid": "b1076dfc-b9ad-4769-8c92-a6c4dae69d19",
    "_uuid": "8f2839f25d086af736a60e9eeb907d3b93b6e0e5",
    "execution": {
     "iopub.execute_input": "2020-11-29T19:00:00.113548Z",
     "iopub.status.busy": "2020-11-29T19:00:00.112837Z",
     "iopub.status.idle": "2020-11-29T19:00:01.524178Z",
     "shell.execute_reply": "2020-11-29T19:00:01.523603Z"
    },
    "papermill": {
     "duration": 1.437005,
     "end_time": "2020-11-29T19:00:01.524300",
     "exception": false,
     "start_time": "2020-11-29T19:00:00.087295",
     "status": "completed"
    },
    "tags": []
   },
   "outputs": [
    {
     "name": "stdout",
     "output_type": "stream",
     "text": [
      "/kaggle/input/riiid-train-data-multiple-formats/riiid_train.pkl.gzip\n",
      "/kaggle/input/riiid-train-data-multiple-formats/riiid_train.h5\n",
      "/kaggle/input/riiid-train-data-multiple-formats/riiid_train.parquet\n",
      "/kaggle/input/riiid-train-data-multiple-formats/riiid_train.feather\n",
      "/kaggle/input/riiid-train-data-multiple-formats/riiid_train.jay\n",
      "/kaggle/input/riiid-test-answer-prediction/train.csv\n",
      "/kaggle/input/riiid-test-answer-prediction/example_test.csv\n",
      "/kaggle/input/riiid-test-answer-prediction/lectures.csv\n",
      "/kaggle/input/riiid-test-answer-prediction/questions.csv\n",
      "/kaggle/input/riiid-test-answer-prediction/example_sample_submission.csv\n",
      "/kaggle/input/riiid-test-answer-prediction/riiideducation/__init__.py\n",
      "/kaggle/input/riiid-test-answer-prediction/riiideducation/competition.cpython-37m-x86_64-linux-gnu.so\n"
     ]
    }
   ],
   "source": [
    "# This Python 3 environment comes with many helpful analytics libraries installed\n",
    "# It is defined by the kaggle/python Docker image: https://github.com/kaggle/docker-python\n",
    "# For example, here's several helpful packages to load\n",
    "\n",
    "import numpy as np # linear algebra\n",
    "import pandas as pd # data processing, CSV file I/O (e.g. pd.read_csv)\n",
    "import math\n",
    "import gc\n",
    "from typing import List\n",
    "from torch.utils.data import Dataset, DataLoader\n",
    "\n",
    "import torch\n",
    "import torch.nn as nn\n",
    "import torch.nn.functional as F\n",
    "import torch.optim as optim\n",
    "from torchvision import datasets, transforms\n",
    "from torchvision.utils import make_grid\n",
    "from torch.utils.data import DataLoader, random_split\n",
    "from torch.autograd import Variable\n",
    "from torch.optim.lr_scheduler import StepLR\n",
    "\n",
    "import riiideducation\n",
    "import matplotlib.pyplot as plt\n",
    "\n",
    "# Input data files are available in the read-only \"../input/\" directory\n",
    "# For example, running this (by clicking run or pressing Shift+Enter) will list all files under the input directory\n",
    "\n",
    "import os\n",
    "for dirname, _, filenames in os.walk('/kaggle/input'):\n",
    "    for filename in filenames:\n",
    "        print(os.path.join(dirname, filename))\n",
    "\n",
    "# You can write up to 20GB to the current directory (/kaggle/working/) that gets preserved as output when you create a version using \"Save & Run All\" \n",
    "# You can also write temporary files to /kaggle/temp/, but they won't be saved outside of the current session"
   ]
  },
  {
   "cell_type": "code",
   "execution_count": 2,
   "metadata": {
    "_cell_guid": "79c7e3d0-c299-4dcb-8224-4455121ee9b0",
    "_uuid": "d629ff2d2480ee46fbb7e2d37f6b5fab8052498a",
    "execution": {
     "iopub.execute_input": "2020-11-29T19:00:01.562035Z",
     "iopub.status.busy": "2020-11-29T19:00:01.561325Z",
     "iopub.status.idle": "2020-11-29T19:00:16.575361Z",
     "shell.execute_reply": "2020-11-29T19:00:16.574487Z"
    },
    "papermill": {
     "duration": 15.034647,
     "end_time": "2020-11-29T19:00:16.575532",
     "exception": false,
     "start_time": "2020-11-29T19:00:01.540885",
     "status": "completed"
    },
    "tags": []
   },
   "outputs": [
    {
     "name": "stdout",
     "output_type": "stream",
     "text": [
      "Train size: (101230332, 10)\n",
      "CPU times: user 5.49 s, sys: 4.94 s, total: 10.4 s\n",
      "Wall time: 15 s\n"
     ]
    }
   ],
   "source": [
    "%%time\n",
    "\n",
    "userActions = pd.read_pickle(\"../input/riiid-train-data-multiple-formats/riiid_train.pkl.gzip\")\n",
    "questions = pd.read_csv('/kaggle/input/riiid-test-answer-prediction/questions.csv')\n",
    "\n",
    "print(\"Train size:\", userActions.shape)"
   ]
  },
  {
   "cell_type": "code",
   "execution_count": 3,
   "metadata": {
    "execution": {
     "iopub.execute_input": "2020-11-29T19:00:16.640423Z",
     "iopub.status.busy": "2020-11-29T19:00:16.638510Z",
     "iopub.status.idle": "2020-11-29T19:00:26.573508Z",
     "shell.execute_reply": "2020-11-29T19:00:26.574061Z"
    },
    "papermill": {
     "duration": 9.972784,
     "end_time": "2020-11-29T19:00:26.574221",
     "exception": false,
     "start_time": "2020-11-29T19:00:16.601437",
     "status": "completed"
    },
    "tags": []
   },
   "outputs": [
    {
     "data": {
      "text/html": [
       "<div>\n",
       "<style scoped>\n",
       "    .dataframe tbody tr th:only-of-type {\n",
       "        vertical-align: middle;\n",
       "    }\n",
       "\n",
       "    .dataframe tbody tr th {\n",
       "        vertical-align: top;\n",
       "    }\n",
       "\n",
       "    .dataframe thead th {\n",
       "        text-align: right;\n",
       "    }\n",
       "</style>\n",
       "<table border=\"1\" class=\"dataframe\">\n",
       "  <thead>\n",
       "    <tr style=\"text-align: right;\">\n",
       "      <th></th>\n",
       "      <th>row_id</th>\n",
       "      <th>timestamp</th>\n",
       "      <th>user_id</th>\n",
       "      <th>content_id</th>\n",
       "      <th>content_type_id</th>\n",
       "      <th>task_container_id</th>\n",
       "      <th>user_answer</th>\n",
       "      <th>answered_correctly</th>\n",
       "      <th>prior_question_elapsed_time</th>\n",
       "      <th>prior_question_had_explanation</th>\n",
       "    </tr>\n",
       "  </thead>\n",
       "  <tbody>\n",
       "    <tr>\n",
       "      <th>0</th>\n",
       "      <td>0</td>\n",
       "      <td>0</td>\n",
       "      <td>115</td>\n",
       "      <td>5692</td>\n",
       "      <td>False</td>\n",
       "      <td>1</td>\n",
       "      <td>3</td>\n",
       "      <td>1</td>\n",
       "      <td>NaN</td>\n",
       "      <td>None</td>\n",
       "    </tr>\n",
       "    <tr>\n",
       "      <th>1</th>\n",
       "      <td>1</td>\n",
       "      <td>56943</td>\n",
       "      <td>115</td>\n",
       "      <td>5716</td>\n",
       "      <td>False</td>\n",
       "      <td>2</td>\n",
       "      <td>2</td>\n",
       "      <td>1</td>\n",
       "      <td>37000.0</td>\n",
       "      <td>False</td>\n",
       "    </tr>\n",
       "    <tr>\n",
       "      <th>2</th>\n",
       "      <td>2</td>\n",
       "      <td>118363</td>\n",
       "      <td>115</td>\n",
       "      <td>128</td>\n",
       "      <td>False</td>\n",
       "      <td>0</td>\n",
       "      <td>0</td>\n",
       "      <td>1</td>\n",
       "      <td>55000.0</td>\n",
       "      <td>False</td>\n",
       "    </tr>\n",
       "    <tr>\n",
       "      <th>3</th>\n",
       "      <td>3</td>\n",
       "      <td>131167</td>\n",
       "      <td>115</td>\n",
       "      <td>7860</td>\n",
       "      <td>False</td>\n",
       "      <td>3</td>\n",
       "      <td>0</td>\n",
       "      <td>1</td>\n",
       "      <td>19000.0</td>\n",
       "      <td>False</td>\n",
       "    </tr>\n",
       "    <tr>\n",
       "      <th>4</th>\n",
       "      <td>4</td>\n",
       "      <td>137965</td>\n",
       "      <td>115</td>\n",
       "      <td>7922</td>\n",
       "      <td>False</td>\n",
       "      <td>4</td>\n",
       "      <td>1</td>\n",
       "      <td>1</td>\n",
       "      <td>11000.0</td>\n",
       "      <td>False</td>\n",
       "    </tr>\n",
       "  </tbody>\n",
       "</table>\n",
       "</div>"
      ],
      "text/plain": [
       "   row_id  timestamp  user_id  content_id  content_type_id  task_container_id  \\\n",
       "0       0          0      115        5692            False                  1   \n",
       "1       1      56943      115        5716            False                  2   \n",
       "2       2     118363      115         128            False                  0   \n",
       "3       3     131167      115        7860            False                  3   \n",
       "4       4     137965      115        7922            False                  4   \n",
       "\n",
       "   user_answer  answered_correctly  prior_question_elapsed_time  \\\n",
       "0            3                   1                          NaN   \n",
       "1            2                   1                      37000.0   \n",
       "2            0                   1                      55000.0   \n",
       "3            0                   1                      19000.0   \n",
       "4            1                   1                      11000.0   \n",
       "\n",
       "  prior_question_had_explanation  \n",
       "0                           None  \n",
       "1                          False  \n",
       "2                          False  \n",
       "3                          False  \n",
       "4                          False  "
      ]
     },
     "execution_count": 3,
     "metadata": {},
     "output_type": "execute_result"
    }
   ],
   "source": [
    "# only look at those actions related to questions\n",
    "numberOfActions = 1000000\n",
    "userActions = userActions.loc[userActions['content_type_id'] == 0].head(numberOfActions)\n",
    "userActions.head()"
   ]
  },
  {
   "cell_type": "code",
   "execution_count": 4,
   "metadata": {
    "execution": {
     "iopub.execute_input": "2020-11-29T19:00:26.618022Z",
     "iopub.status.busy": "2020-11-29T19:00:26.617262Z",
     "iopub.status.idle": "2020-11-29T19:00:26.620942Z",
     "shell.execute_reply": "2020-11-29T19:00:26.621412Z"
    },
    "papermill": {
     "duration": 0.030999,
     "end_time": "2020-11-29T19:00:26.621527",
     "exception": false,
     "start_time": "2020-11-29T19:00:26.590528",
     "status": "completed"
    },
    "tags": []
   },
   "outputs": [
    {
     "data": {
      "text/html": [
       "<div>\n",
       "<style scoped>\n",
       "    .dataframe tbody tr th:only-of-type {\n",
       "        vertical-align: middle;\n",
       "    }\n",
       "\n",
       "    .dataframe tbody tr th {\n",
       "        vertical-align: top;\n",
       "    }\n",
       "\n",
       "    .dataframe thead th {\n",
       "        text-align: right;\n",
       "    }\n",
       "</style>\n",
       "<table border=\"1\" class=\"dataframe\">\n",
       "  <thead>\n",
       "    <tr style=\"text-align: right;\">\n",
       "      <th></th>\n",
       "      <th>question_id</th>\n",
       "      <th>bundle_id</th>\n",
       "      <th>part</th>\n",
       "      <th>tags</th>\n",
       "    </tr>\n",
       "  </thead>\n",
       "  <tbody>\n",
       "    <tr>\n",
       "      <th>0</th>\n",
       "      <td>0</td>\n",
       "      <td>0</td>\n",
       "      <td>1</td>\n",
       "      <td>51 131 162 38</td>\n",
       "    </tr>\n",
       "    <tr>\n",
       "      <th>1</th>\n",
       "      <td>1</td>\n",
       "      <td>1</td>\n",
       "      <td>1</td>\n",
       "      <td>131 36 81</td>\n",
       "    </tr>\n",
       "    <tr>\n",
       "      <th>2</th>\n",
       "      <td>2</td>\n",
       "      <td>2</td>\n",
       "      <td>1</td>\n",
       "      <td>131 101 162 92</td>\n",
       "    </tr>\n",
       "    <tr>\n",
       "      <th>3</th>\n",
       "      <td>3</td>\n",
       "      <td>3</td>\n",
       "      <td>1</td>\n",
       "      <td>131 149 162 29</td>\n",
       "    </tr>\n",
       "    <tr>\n",
       "      <th>4</th>\n",
       "      <td>4</td>\n",
       "      <td>4</td>\n",
       "      <td>1</td>\n",
       "      <td>131 5 162 38</td>\n",
       "    </tr>\n",
       "  </tbody>\n",
       "</table>\n",
       "</div>"
      ],
      "text/plain": [
       "   question_id  bundle_id  part            tags\n",
       "0            0          0     1   51 131 162 38\n",
       "1            1          1     1       131 36 81\n",
       "2            2          2     1  131 101 162 92\n",
       "3            3          3     1  131 149 162 29\n",
       "4            4          4     1    131 5 162 38"
      ]
     },
     "execution_count": 4,
     "metadata": {},
     "output_type": "execute_result"
    }
   ],
   "source": [
    "# does no care about correct answer\n",
    "questions = questions.drop(columns=['correct_answer'])\n",
    "questions.head()"
   ]
  },
  {
   "cell_type": "code",
   "execution_count": 5,
   "metadata": {
    "execution": {
     "iopub.execute_input": "2020-11-29T19:00:26.726459Z",
     "iopub.status.busy": "2020-11-29T19:00:26.725411Z",
     "iopub.status.idle": "2020-11-29T19:00:26.730045Z",
     "shell.execute_reply": "2020-11-29T19:00:26.729493Z"
    },
    "papermill": {
     "duration": 0.09219,
     "end_time": "2020-11-29T19:00:26.730200",
     "exception": false,
     "start_time": "2020-11-29T19:00:26.638010",
     "status": "completed"
    },
    "tags": []
   },
   "outputs": [
    {
     "data": {
      "text/plain": [
       "40"
      ]
     },
     "execution_count": 5,
     "metadata": {},
     "output_type": "execute_result"
    }
   ],
   "source": [
    "gc.collect()"
   ]
  },
  {
   "cell_type": "markdown",
   "metadata": {
    "papermill": {
     "duration": 0.017643,
     "end_time": "2020-11-29T19:00:26.765693",
     "exception": false,
     "start_time": "2020-11-29T19:00:26.748050",
     "status": "completed"
    },
    "tags": []
   },
   "source": [
    "# Preprocess Question Tags"
   ]
  },
  {
   "cell_type": "code",
   "execution_count": 6,
   "metadata": {
    "execution": {
     "iopub.execute_input": "2020-11-29T19:00:26.855455Z",
     "iopub.status.busy": "2020-11-29T19:00:26.829676Z",
     "iopub.status.idle": "2020-11-29T19:00:26.858390Z",
     "shell.execute_reply": "2020-11-29T19:00:26.858847Z"
    },
    "papermill": {
     "duration": 0.075887,
     "end_time": "2020-11-29T19:00:26.858962",
     "exception": false,
     "start_time": "2020-11-29T19:00:26.783075",
     "status": "completed"
    },
    "tags": []
   },
   "outputs": [
    {
     "data": {
      "text/html": [
       "<div>\n",
       "<style scoped>\n",
       "    .dataframe tbody tr th:only-of-type {\n",
       "        vertical-align: middle;\n",
       "    }\n",
       "\n",
       "    .dataframe tbody tr th {\n",
       "        vertical-align: top;\n",
       "    }\n",
       "\n",
       "    .dataframe thead th {\n",
       "        text-align: right;\n",
       "    }\n",
       "</style>\n",
       "<table border=\"1\" class=\"dataframe\">\n",
       "  <thead>\n",
       "    <tr style=\"text-align: right;\">\n",
       "      <th></th>\n",
       "      <th>question_id</th>\n",
       "      <th>bundle_id</th>\n",
       "      <th>part</th>\n",
       "      <th>tags</th>\n",
       "    </tr>\n",
       "  </thead>\n",
       "  <tbody>\n",
       "    <tr>\n",
       "      <th>0</th>\n",
       "      <td>0</td>\n",
       "      <td>0</td>\n",
       "      <td>1</td>\n",
       "      <td>[51, 131, 162, 38]</td>\n",
       "    </tr>\n",
       "    <tr>\n",
       "      <th>1</th>\n",
       "      <td>1</td>\n",
       "      <td>1</td>\n",
       "      <td>1</td>\n",
       "      <td>[131, 36, 81]</td>\n",
       "    </tr>\n",
       "    <tr>\n",
       "      <th>2</th>\n",
       "      <td>2</td>\n",
       "      <td>2</td>\n",
       "      <td>1</td>\n",
       "      <td>[131, 101, 162, 92]</td>\n",
       "    </tr>\n",
       "    <tr>\n",
       "      <th>3</th>\n",
       "      <td>3</td>\n",
       "      <td>3</td>\n",
       "      <td>1</td>\n",
       "      <td>[131, 149, 162, 29]</td>\n",
       "    </tr>\n",
       "    <tr>\n",
       "      <th>4</th>\n",
       "      <td>4</td>\n",
       "      <td>4</td>\n",
       "      <td>1</td>\n",
       "      <td>[131, 5, 162, 38]</td>\n",
       "    </tr>\n",
       "  </tbody>\n",
       "</table>\n",
       "</div>"
      ],
      "text/plain": [
       "   question_id  bundle_id  part                 tags\n",
       "0            0          0     1   [51, 131, 162, 38]\n",
       "1            1          1     1        [131, 36, 81]\n",
       "2            2          2     1  [131, 101, 162, 92]\n",
       "3            3          3     1  [131, 149, 162, 29]\n",
       "4            4          4     1    [131, 5, 162, 38]"
      ]
     },
     "execution_count": 6,
     "metadata": {},
     "output_type": "execute_result"
    }
   ],
   "source": [
    "# convert tags to array of numbers\n",
    "maximumTag = -math.inf\n",
    "minimumTag = math.inf\n",
    "def tagsToArray(x: str) -> List[int]:\n",
    "    if x is np.nan:\n",
    "        return []\n",
    "    res = [int(tag) for tag in x.split()]\n",
    "    global maximumTag\n",
    "    global minimumTag\n",
    "    maximumTag = max(maximumTag, *res)\n",
    "    minimumTag = min(minimumTag, *res)\n",
    "    return res\n",
    "    \n",
    "\n",
    "questions.tags = questions.tags.apply(tagsToArray)\n",
    "\n",
    "questions.head()"
   ]
  },
  {
   "cell_type": "code",
   "execution_count": 7,
   "metadata": {
    "execution": {
     "iopub.execute_input": "2020-11-29T19:00:26.900869Z",
     "iopub.status.busy": "2020-11-29T19:00:26.899245Z",
     "iopub.status.idle": "2020-11-29T19:00:26.903878Z",
     "shell.execute_reply": "2020-11-29T19:00:26.903115Z"
    },
    "papermill": {
     "duration": 0.02712,
     "end_time": "2020-11-29T19:00:26.903997",
     "exception": false,
     "start_time": "2020-11-29T19:00:26.876877",
     "status": "completed"
    },
    "tags": []
   },
   "outputs": [
    {
     "name": "stdout",
     "output_type": "stream",
     "text": [
      "min tag: 0\n",
      "max tag: 187\n"
     ]
    }
   ],
   "source": [
    "print('min tag: ' + str(minimumTag))\n",
    "print('max tag: ' + str(maximumTag))"
   ]
  },
  {
   "cell_type": "code",
   "execution_count": 8,
   "metadata": {
    "execution": {
     "iopub.execute_input": "2020-11-29T19:00:26.955691Z",
     "iopub.status.busy": "2020-11-29T19:00:26.954842Z",
     "iopub.status.idle": "2020-11-29T19:00:27.049310Z",
     "shell.execute_reply": "2020-11-29T19:00:27.048701Z"
    },
    "papermill": {
     "duration": 0.127354,
     "end_time": "2020-11-29T19:00:27.049426",
     "exception": false,
     "start_time": "2020-11-29T19:00:26.922072",
     "status": "completed"
    },
    "tags": []
   },
   "outputs": [
    {
     "data": {
      "text/html": [
       "<div>\n",
       "<style scoped>\n",
       "    .dataframe tbody tr th:only-of-type {\n",
       "        vertical-align: middle;\n",
       "    }\n",
       "\n",
       "    .dataframe tbody tr th {\n",
       "        vertical-align: top;\n",
       "    }\n",
       "\n",
       "    .dataframe thead th {\n",
       "        text-align: right;\n",
       "    }\n",
       "</style>\n",
       "<table border=\"1\" class=\"dataframe\">\n",
       "  <thead>\n",
       "    <tr style=\"text-align: right;\">\n",
       "      <th></th>\n",
       "      <th>question_id</th>\n",
       "      <th>bundle_id</th>\n",
       "      <th>part</th>\n",
       "      <th>tags</th>\n",
       "    </tr>\n",
       "  </thead>\n",
       "  <tbody>\n",
       "    <tr>\n",
       "      <th>0</th>\n",
       "      <td>0</td>\n",
       "      <td>0</td>\n",
       "      <td>1</td>\n",
       "      <td>[0.0, 0.0, 0.0, 0.0, 0.0, 0.0, 0.0, 0.0, 0.0, ...</td>\n",
       "    </tr>\n",
       "    <tr>\n",
       "      <th>1</th>\n",
       "      <td>1</td>\n",
       "      <td>1</td>\n",
       "      <td>1</td>\n",
       "      <td>[0.0, 0.0, 0.0, 0.0, 0.0, 0.0, 0.0, 0.0, 0.0, ...</td>\n",
       "    </tr>\n",
       "    <tr>\n",
       "      <th>2</th>\n",
       "      <td>2</td>\n",
       "      <td>2</td>\n",
       "      <td>1</td>\n",
       "      <td>[0.0, 0.0, 0.0, 0.0, 0.0, 0.0, 0.0, 0.0, 0.0, ...</td>\n",
       "    </tr>\n",
       "    <tr>\n",
       "      <th>3</th>\n",
       "      <td>3</td>\n",
       "      <td>3</td>\n",
       "      <td>1</td>\n",
       "      <td>[0.0, 0.0, 0.0, 0.0, 0.0, 0.0, 0.0, 0.0, 0.0, ...</td>\n",
       "    </tr>\n",
       "    <tr>\n",
       "      <th>4</th>\n",
       "      <td>4</td>\n",
       "      <td>4</td>\n",
       "      <td>1</td>\n",
       "      <td>[0.0, 0.0, 0.0, 0.0, 0.0, 1.0, 0.0, 0.0, 0.0, ...</td>\n",
       "    </tr>\n",
       "  </tbody>\n",
       "</table>\n",
       "</div>"
      ],
      "text/plain": [
       "   question_id  bundle_id  part  \\\n",
       "0            0          0     1   \n",
       "1            1          1     1   \n",
       "2            2          2     1   \n",
       "3            3          3     1   \n",
       "4            4          4     1   \n",
       "\n",
       "                                                tags  \n",
       "0  [0.0, 0.0, 0.0, 0.0, 0.0, 0.0, 0.0, 0.0, 0.0, ...  \n",
       "1  [0.0, 0.0, 0.0, 0.0, 0.0, 0.0, 0.0, 0.0, 0.0, ...  \n",
       "2  [0.0, 0.0, 0.0, 0.0, 0.0, 0.0, 0.0, 0.0, 0.0, ...  \n",
       "3  [0.0, 0.0, 0.0, 0.0, 0.0, 0.0, 0.0, 0.0, 0.0, ...  \n",
       "4  [0.0, 0.0, 0.0, 0.0, 0.0, 1.0, 0.0, 0.0, 0.0, ...  "
      ]
     },
     "execution_count": 8,
     "metadata": {},
     "output_type": "execute_result"
    }
   ],
   "source": [
    "def convertTagsToEncodedArray(x: List[int]) -> List[int]:\n",
    "    global maximumTag\n",
    "    encoded = np.zeros(maximumTag + 1)\n",
    "    for tag in x:\n",
    "        encoded[tag] = 1\n",
    "    return encoded\n",
    "\n",
    "\n",
    "questions.tags = questions.tags.apply(convertTagsToEncodedArray)\n",
    "\n",
    "questions.head()"
   ]
  },
  {
   "cell_type": "markdown",
   "metadata": {
    "papermill": {
     "duration": 0.031504,
     "end_time": "2020-11-29T19:00:27.114893",
     "exception": false,
     "start_time": "2020-11-29T19:00:27.083389",
     "status": "completed"
    },
    "tags": []
   },
   "source": [
    "# Create DataSet"
   ]
  },
  {
   "cell_type": "code",
   "execution_count": 9,
   "metadata": {
    "execution": {
     "iopub.execute_input": "2020-11-29T19:00:27.188183Z",
     "iopub.status.busy": "2020-11-29T19:00:27.187118Z",
     "iopub.status.idle": "2020-11-29T19:00:27.331780Z",
     "shell.execute_reply": "2020-11-29T19:00:27.332995Z"
    },
    "papermill": {
     "duration": 0.186543,
     "end_time": "2020-11-29T19:00:27.333189",
     "exception": false,
     "start_time": "2020-11-29T19:00:27.146646",
     "status": "completed"
    },
    "tags": []
   },
   "outputs": [
    {
     "data": {
      "text/plain": [
       "0"
      ]
     },
     "execution_count": 9,
     "metadata": {},
     "output_type": "execute_result"
    }
   ],
   "source": [
    "\n",
    "interactionFeatures = ['timestamp', 'content_type_id', 'task_container_id', 'prior_question_elapsed_time', 'prior_question_had_explanation']\n",
    "questionFeatures = ['bundle_id', 'part']\n",
    "\n",
    "def toInt(x):\n",
    "    if pd.isna(x) or x is None or x == np.nan:\n",
    "        return -1\n",
    "    return int(x)\n",
    "\n",
    "def cleanUpUserInteractions(userInteractions, garbageCollect=False):\n",
    "    interactions = userInteractions.loc[userInteractions['content_type_id'] == 0]\n",
    "    \n",
    "    if garbageCollect:\n",
    "        gc.collect()\n",
    "    \n",
    "    interactions['content_type_id'] = interactions['content_type_id'].apply(toInt)\n",
    "    interactions['prior_question_elapsed_time'] = interactions['prior_question_elapsed_time'].apply(toInt)\n",
    "    \n",
    "    if garbageCollect:\n",
    "        gc.collect()\n",
    "    \n",
    "    interactions['timestamp'] = interactions['timestamp'].apply(toInt)\n",
    "    \n",
    "    if garbageCollect:\n",
    "        gc.collect()\n",
    "    \n",
    "    interactions['content_type_id'] = interactions['content_type_id'].apply(toInt)\n",
    "    interactions['prior_question_had_explanation'] = interactions['prior_question_had_explanation'].apply(toInt)\n",
    "    \n",
    "    if garbageCollect:\n",
    "        gc.collect()\n",
    "    \n",
    "    interactions = interactions.replace([np.inf, -np.inf], np.nan)\n",
    "    interactions = interactions.fillna(-1)\n",
    "\n",
    "    if garbageCollect:\n",
    "        gc.collect()\n",
    "    \n",
    "    interactions[interactionFeatures] = interactions[interactionFeatures].astype('float').fillna(value = -1)\n",
    "    \n",
    "    if garbageCollect:\n",
    "        gc.collect()\n",
    "\n",
    "    \n",
    "    return interactions\n",
    "    \n",
    "\n",
    "class UserDataset(Dataset):\n",
    "    \"\"\"Dataset class for column dataset.\n",
    "    Args:\n",
    "       cats (list of str): List of the name of columns contain\n",
    "                           categorical variables.\n",
    "       conts (list of str): List of the name of columns which \n",
    "                           contain continuous variables.\n",
    "       y (Tensor, optional): Target variables.\n",
    "       is_reg (bool): If the task is regression, set ``True``, \n",
    "                      otherwise (classification) ``False``.\n",
    "       is_multi (bool): If the task is multi-label classification, \n",
    "                        set ``True``.\n",
    "    \"\"\"\n",
    "    def __init__(self, userInteractions, questions):\n",
    "        self.isTest = False\n",
    "        self.length = len(userInteractions)\n",
    "        self.userInteractions = cleanUpUserInteractions(userInteractions[userInteractions.answered_correctly != -1], garbageCollect=True).iloc\n",
    "        gc.collect()\n",
    "        self.questions = {}\n",
    "        self.tags = {}\n",
    "        for index, row in questions.iterrows():\n",
    "            question_id = int(row.question_id)\n",
    "            self.questions[question_id] = torch.from_numpy(row[questionFeatures].astype('float').values).float()\n",
    "            self.tags[question_id] = torch.from_numpy(row.tags.astype('float')).float()\n",
    "        gc.collect()\n",
    "        \n",
    "        self.blankTags = torch.from_numpy(convertTagsToEncodedArray([])).float()\n",
    "        self.blankQuestion = torch.from_numpy(np.ones(len(questionFeatures),)).float()\n",
    "        \n",
    "    \n",
    "    def getData(self, row):\n",
    "        questionId = int(row.content_id)\n",
    "        return torch.from_numpy(row[interactionFeatures].astype('float').values).float(), self.questions.get(questionId, self.blankQuestion), self.tags.get(questionId, self.blankTags)\n",
    "        \n",
    "    def __len__(self): \n",
    "        return self.length\n",
    "    \n",
    "    def switchToTest(self, df):\n",
    "        self.isTest = True\n",
    "        self.length = len(df)\n",
    "        self.userInteractions = df.iloc\n",
    "        \n",
    "    \n",
    "    def __getitem__(self, idx):\n",
    "        row = self.userInteractions[idx]\n",
    "        if not self.isTest:\n",
    "            return [torch.from_numpy(row[interactionFeatures].values).float(), self.questions[row.content_id], self.tags[row.content_id], torch.Tensor([row.answered_correctly]).long()]\n",
    "        return [torch.from_numpy(row[interactionFeatures].values.astype('float')).float(), self.questions[row.content_id], self.tags[row.content_id]]\n",
    "\n",
    "gc.collect()"
   ]
  },
  {
   "cell_type": "markdown",
   "metadata": {
    "papermill": {
     "duration": 0.031662,
     "end_time": "2020-11-29T19:00:27.401950",
     "exception": false,
     "start_time": "2020-11-29T19:00:27.370288",
     "status": "completed"
    },
    "tags": []
   },
   "source": [
    "# Model"
   ]
  },
  {
   "cell_type": "code",
   "execution_count": 10,
   "metadata": {
    "execution": {
     "iopub.execute_input": "2020-11-29T19:00:27.475519Z",
     "iopub.status.busy": "2020-11-29T19:00:27.467980Z",
     "iopub.status.idle": "2020-11-29T19:00:49.985551Z",
     "shell.execute_reply": "2020-11-29T19:00:49.986228Z"
    },
    "papermill": {
     "duration": 22.553771,
     "end_time": "2020-11-29T19:00:49.986437",
     "exception": false,
     "start_time": "2020-11-29T19:00:27.432666",
     "status": "completed"
    },
    "tags": []
   },
   "outputs": [],
   "source": [
    "trainData = UserDataset(userActions, questions)"
   ]
  },
  {
   "cell_type": "code",
   "execution_count": 11,
   "metadata": {
    "execution": {
     "iopub.execute_input": "2020-11-29T19:00:50.127498Z",
     "iopub.status.busy": "2020-11-29T19:00:50.126683Z",
     "iopub.status.idle": "2020-11-29T19:00:50.299216Z",
     "shell.execute_reply": "2020-11-29T19:00:50.298586Z"
    },
    "papermill": {
     "duration": 0.285945,
     "end_time": "2020-11-29T19:00:50.299347",
     "exception": false,
     "start_time": "2020-11-29T19:00:50.013402",
     "status": "completed"
    },
    "tags": []
   },
   "outputs": [],
   "source": [
    "batch_size = 64\n",
    "\n",
    "gc.collect()\n",
    "\n",
    "validationCount = int(numberOfActions * 0.1)\n",
    "\n",
    "train_dataset, val_dataset = random_split(trainData, [numberOfActions - validationCount, validationCount])\n",
    "train_loader = DataLoader(train_dataset, batch_size=batch_size,\n",
    "                          shuffle=True, num_workers=2)\n",
    "val_loader = DataLoader(val_dataset, batch_size=batch_size, \n",
    "                        shuffle=False)"
   ]
  },
  {
   "cell_type": "code",
   "execution_count": 12,
   "metadata": {
    "execution": {
     "iopub.execute_input": "2020-11-29T19:00:50.371822Z",
     "iopub.status.busy": "2020-11-29T19:00:50.369907Z",
     "iopub.status.idle": "2020-11-29T19:00:50.372604Z",
     "shell.execute_reply": "2020-11-29T19:00:50.373320Z"
    },
    "papermill": {
     "duration": 0.053582,
     "end_time": "2020-11-29T19:00:50.373469",
     "exception": false,
     "start_time": "2020-11-29T19:00:50.319887",
     "status": "completed"
    },
    "tags": []
   },
   "outputs": [],
   "source": [
    "class Predictor(nn.Module):\n",
    "  def __init__(self, tagCount: int, questionFeatureCount: int, interactionFeatureCount: int):\n",
    "    super(Predictor, self).__init__()\n",
    "    \n",
    "    reductionDimensions = 4\n",
    "    predictorDimensions = 16\n",
    "    \n",
    "\n",
    "    self.tagEncoder = nn.Sequential(\n",
    "      nn.Linear(tagCount, 64),\n",
    "      nn.ReLU(True),\n",
    "      nn.Linear(64, 128),\n",
    "      nn.Dropout(),\n",
    "      nn.ReLU(True),\n",
    "      nn.Linear(128, 32),\n",
    "      nn.ReLU(True), \n",
    "      nn.Linear(32, reductionDimensions)\n",
    "    )\n",
    "\n",
    "    self.tagDecoder = nn.Sequential(\n",
    "      nn.Linear(reductionDimensions, 32),\n",
    "      nn.ReLU(True),\n",
    "      nn.Linear(32, 128),\n",
    "      nn.Dropout(),\n",
    "      nn.ReLU(True),\n",
    "      nn.Linear(128, 64),\n",
    "      nn.ReLU(True),\n",
    "      nn.Linear(64, tagCount), \n",
    "    )\n",
    "\n",
    "    self.predictorEncoder = nn.Sequential(\n",
    "      nn.Linear(reductionDimensions + questionFeatureCount + interactionFeatureCount, 64),\n",
    "      nn.ReLU(True),\n",
    "      nn.Linear(64, 64),\n",
    "      nn.Dropout(),\n",
    "      nn.ReLU(True),\n",
    "      nn.Linear(64, 32),\n",
    "      nn.ReLU(True),\n",
    "      nn.Linear(32, predictorDimensions),\n",
    "    )\n",
    "    \n",
    "    self.predictorDecoder = nn.Sequential(\n",
    "      nn.Linear(predictorDimensions, 16),\n",
    "      nn.ReLU(True),\n",
    "      nn.Linear(16, 32),\n",
    "      nn.ReLU(True),\n",
    "      nn.Linear(32, 64),\n",
    "      nn.ReLU(True),\n",
    "      nn.Linear(64, reductionDimensions + questionFeatureCount + interactionFeatureCount),  \n",
    "    )\n",
    "    \n",
    "    self.predictor = nn.Sequential(\n",
    "        nn.Linear(predictorDimensions, 32),\n",
    "        nn.ReLU(True),\n",
    "        nn.Linear(32, 16),\n",
    "        nn.ReLU(True),\n",
    "        nn.Linear(16, 2)\n",
    "    )\n",
    "\n",
    "  def forward(self, interaction, question, tags):\n",
    "    encodedTag = self.tagEncoder(tags)\n",
    "    decodedTag = self.tagDecoder(encodedTag)\n",
    "    predictOn = torch.cat((encodedTag, question, interaction), -1)\n",
    "    predictEncoded = self.predictorEncoder(predictOn)\n",
    "    predictDecoded = self.predictorDecoder(predictEncoded)\n",
    "    prediction = self.predictor(predictEncoded)\n",
    "    return prediction, decodedTag, predictOn, predictDecoded\n"
   ]
  },
  {
   "cell_type": "code",
   "execution_count": 13,
   "metadata": {
    "execution": {
     "iopub.execute_input": "2020-11-29T19:00:50.422232Z",
     "iopub.status.busy": "2020-11-29T19:00:50.421613Z",
     "iopub.status.idle": "2020-11-29T19:00:50.425325Z",
     "shell.execute_reply": "2020-11-29T19:00:50.425758Z"
    },
    "papermill": {
     "duration": 0.02994,
     "end_time": "2020-11-29T19:00:50.425875",
     "exception": false,
     "start_time": "2020-11-29T19:00:50.395935",
     "status": "completed"
    },
    "tags": []
   },
   "outputs": [],
   "source": [
    "lossBase = nn.MSELoss()\n",
    "classificationLoss = nn.CrossEntropyLoss()\n",
    "\n",
    "def loss_criterion(tags, decodedTags, tagRegularizationTerm, predictionOriginal, predictionDecoded, predictionRegularizationTerm, answeredCorrectly, prediction):\n",
    "    return lossBase(tags, decodedTags) * tagRegularizationTerm + lossBase(predictionOriginal, predictionDecoded) * predictionRegularizationTerm + classificationLoss(prediction, answeredCorrectly.squeeze(1))"
   ]
  },
  {
   "cell_type": "markdown",
   "metadata": {
    "papermill": {
     "duration": 0.019383,
     "end_time": "2020-11-29T19:00:50.464886",
     "exception": false,
     "start_time": "2020-11-29T19:00:50.445503",
     "status": "completed"
    },
    "tags": []
   },
   "source": [
    "# Train"
   ]
  },
  {
   "cell_type": "code",
   "execution_count": 14,
   "metadata": {
    "execution": {
     "iopub.execute_input": "2020-11-29T19:00:50.522191Z",
     "iopub.status.busy": "2020-11-29T19:00:50.516990Z",
     "iopub.status.idle": "2020-11-29T19:28:15.519567Z",
     "shell.execute_reply": "2020-11-29T19:28:15.520072Z"
    },
    "papermill": {
     "duration": 1645.035711,
     "end_time": "2020-11-29T19:28:15.520262",
     "exception": false,
     "start_time": "2020-11-29T19:00:50.484551",
     "status": "completed"
    },
    "tags": []
   },
   "outputs": [
    {
     "name": "stdout",
     "output_type": "stream",
     "text": [
      "Train loss 1: 359317153563391.75,Train Acc:55.05%\n",
      "Val accuracy:34.91% Val loss:4109386711370405.5\n",
      "Train loss 2: 23157163276200.477,Train Acc:55.26266666666667%\n",
      "Val accuracy:65.315% Val loss:4020641285913146.0\n"
     ]
    }
   ],
   "source": [
    "tagRegularizationTerm = 0.001\n",
    "predictionRegularizationTerm = 0.001\n",
    "epochs = 3\n",
    "\n",
    "model = Predictor(maximumTag + 1, len(questionFeatures), len(interactionFeatures)).cuda()\n",
    "model_optimizer = torch.optim.Adam(\n",
    "    model.parameters(), lr=0.0001, weight_decay=1e-5)\n",
    "\n",
    "\n",
    "train_loss  = []\n",
    "train_acc = []\n",
    "val_loss = []\n",
    "val_acc = []\n",
    "\n",
    "gc.collect()\n",
    "\n",
    "for epoch in range(epochs):\n",
    "    model.train()\n",
    "    running_acc = 0.0\n",
    "    batch_loss = []\n",
    "    for index, (interaction, question, tags, y) in enumerate(train_loader):\n",
    "        interaction = Variable(interaction).cuda()\n",
    "        question = Variable(question).cuda()\n",
    "        tags = Variable(tags).cuda()\n",
    "        y = Variable(y).cuda()\n",
    "        # ===================forward=====================\n",
    "        prediction, decodedTag, predictOn, predictDecoded = model(interaction, question, tags)\n",
    "        loss = loss_criterion(tags, decodedTag, tagRegularizationTerm, predictOn, predictDecoded, predictionRegularizationTerm, y, prediction)\n",
    "        # ===================backward====================\n",
    "        model_optimizer.zero_grad()\n",
    "        loss.backward()\n",
    "        model_optimizer.step()\n",
    "\n",
    "        # print statistics\n",
    "        batch_loss.append(loss.item())\n",
    "\n",
    "        out = torch.argmax(prediction.detach(),dim=1).unsqueeze(1)\n",
    "        assert out.shape==y.shape\n",
    "        running_acc += (out==y).sum().item()\n",
    "        \n",
    "        if index % 50000 == 0:\n",
    "            gc.collect()\n",
    "    train_loss.append(np.mean(batch_loss))\n",
    "    train_acc.append(running_acc*100/len(train_dataset))\n",
    "    print(f\"Train loss {epoch+1}: {train_loss[-1]},Train Acc:{running_acc*100/len(train_dataset)}%\")\n",
    "\n",
    "\n",
    "\n",
    "    model.eval()\n",
    "    batch_loss  = []\n",
    "    correct = 0.0\n",
    "    with torch.no_grad():\n",
    "        totalLoss = 0\n",
    "        for interaction, question, tags, y in val_loader:\n",
    "            interaction = Variable(interaction).cuda()\n",
    "            question = Variable(question).cuda()\n",
    "            tags = Variable(tags).cuda()\n",
    "            y = Variable(y).cuda()\n",
    "            \n",
    "            prediction, decodedTag, predictOn, predictDecoded = model(interaction, question, tags)\n",
    "            loss = loss_criterion(tags, decodedTag, tagRegularizationTerm, predictOn, predictDecoded, predictionRegularizationTerm, y, prediction)\n",
    "            \n",
    "            batch_loss.append(loss.item())\n",
    "\n",
    "            out = torch.argmax(prediction,dim=1).unsqueeze(1)\n",
    "            acc = (y==out).sum().item()\n",
    "            correct += acc\n",
    "    val_loss.append(np.mean(batch_loss))\n",
    "    val_acc.append(correct*100/len(val_dataset))\n",
    "    print(f\"Val accuracy:{correct*100/len(val_dataset)}% Val loss:{np.mean(batch_loss)}\")\n",
    "    \n",
    "    if correct/len(val_dataset) > 0.65:\n",
    "        break\n",
    "    \n",
    "    gc.collect()\n",
    "\n"
   ]
  },
  {
   "cell_type": "code",
   "execution_count": 15,
   "metadata": {
    "execution": {
     "iopub.execute_input": "2020-11-29T19:28:15.569545Z",
     "iopub.status.busy": "2020-11-29T19:28:15.568197Z",
     "iopub.status.idle": "2020-11-29T19:28:15.572131Z",
     "shell.execute_reply": "2020-11-29T19:28:15.570097Z"
    },
    "papermill": {
     "duration": 0.031026,
     "end_time": "2020-11-29T19:28:15.572289",
     "exception": false,
     "start_time": "2020-11-29T19:28:15.541263",
     "status": "completed"
    },
    "tags": []
   },
   "outputs": [
    {
     "name": "stdout",
     "output_type": "stream",
     "text": [
      "[359317153563391.75, 23157163276200.477]\n",
      "[55.05, 55.26266666666667]\n",
      "[4109386711370405.5, 4020641285913146.0]\n",
      "[34.91, 65.315]\n"
     ]
    }
   ],
   "source": [
    "print(train_loss)\n",
    "print(train_acc)\n",
    "print(val_loss)\n",
    "print(val_acc)"
   ]
  },
  {
   "cell_type": "markdown",
   "metadata": {
    "papermill": {
     "duration": 0.021161,
     "end_time": "2020-11-29T19:28:15.615915",
     "exception": false,
     "start_time": "2020-11-29T19:28:15.594754",
     "status": "completed"
    },
    "tags": []
   },
   "source": [
    "# Submission"
   ]
  },
  {
   "cell_type": "code",
   "execution_count": 16,
   "metadata": {
    "execution": {
     "iopub.execute_input": "2020-11-29T19:28:15.749879Z",
     "iopub.status.busy": "2020-11-29T19:28:15.749077Z",
     "iopub.status.idle": "2020-11-29T19:28:15.752277Z",
     "shell.execute_reply": "2020-11-29T19:28:15.752751Z"
    },
    "papermill": {
     "duration": 0.115421,
     "end_time": "2020-11-29T19:28:15.752887",
     "exception": false,
     "start_time": "2020-11-29T19:28:15.637466",
     "status": "completed"
    },
    "tags": []
   },
   "outputs": [
    {
     "data": {
      "text/plain": [
       "40"
      ]
     },
     "execution_count": 16,
     "metadata": {},
     "output_type": "execute_result"
    }
   ],
   "source": [
    "env = riiideducation.make_env()\n",
    "gc.collect()"
   ]
  },
  {
   "cell_type": "code",
   "execution_count": 17,
   "metadata": {
    "execution": {
     "iopub.execute_input": "2020-11-29T19:28:15.810070Z",
     "iopub.status.busy": "2020-11-29T19:28:15.809217Z",
     "iopub.status.idle": "2020-11-29T19:28:17.629140Z",
     "shell.execute_reply": "2020-11-29T19:28:17.628604Z"
    },
    "papermill": {
     "duration": 1.854269,
     "end_time": "2020-11-29T19:28:17.629271",
     "exception": false,
     "start_time": "2020-11-29T19:28:15.775002",
     "status": "completed"
    },
    "tags": []
   },
   "outputs": [],
   "source": [
    "model.eval()\n",
    "with torch.no_grad():\n",
    "    for (test_df, sample_prediction_df) in env.iter_test():\n",
    "        test_df = cleanUpUserInteractions(test_df, garbageCollect=True)\n",
    "        trainData.switchToTest(test_df)\n",
    "        n = len(test_df)\n",
    "        answeredCorrectly = np.zeros((n,))\n",
    "        testdata = test_df.iloc\n",
    "        for index, (interactions, question, tags) in enumerate(DataLoader(trainData, batch_size=batch_size, shuffle=False)):\n",
    "            interactions = Variable(interactions).cuda()\n",
    "            question = Variable(question).cuda()\n",
    "            tags = Variable(tags).cuda()\n",
    "            prediction, *rest = model(interactions, question, tags)\n",
    "            prediction = torch.argmax(prediction,dim=1).cpu().detach().numpy()\n",
    "            answeredCorrectly[(index * batch_size):(index * batch_size + len(prediction))] = prediction\n",
    "        test_df['answered_correctly'] = answeredCorrectly\n",
    "        env.predict(test_df.loc[test_df['content_type_id'] == 0, ['row_id', 'answered_correctly']])"
   ]
  }
 ],
 "metadata": {
  "kernelspec": {
   "display_name": "Python 3",
   "language": "python",
   "name": "python3"
  },
  "language_info": {
   "codemirror_mode": {
    "name": "ipython",
    "version": 3
   },
   "file_extension": ".py",
   "mimetype": "text/x-python",
   "name": "python",
   "nbconvert_exporter": "python",
   "pygments_lexer": "ipython3",
   "version": "3.7.6"
  },
  "papermill": {
   "duration": 1702.465866,
   "end_time": "2020-11-29T19:28:18.259839",
   "environment_variables": {},
   "exception": null,
   "input_path": "__notebook__.ipynb",
   "output_path": "__notebook__.ipynb",
   "parameters": {},
   "start_time": "2020-11-29T18:59:55.793973",
   "version": "2.1.0"
  }
 },
 "nbformat": 4,
 "nbformat_minor": 4
}
